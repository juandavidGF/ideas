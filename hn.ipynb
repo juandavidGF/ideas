{
 "cells": [
  {
   "cell_type": "code",
   "execution_count": 7,
   "metadata": {},
   "outputs": [
    {
     "name": "stdout",
     "output_type": "stream",
     "text": [
      "{'by': 'simonw', 'descendants': 1096, 'id': 34804874, 'kids': [34804893, 34806689, 34809885, 34808793, 34806338, 34806720, 34807940, 34805857, 34807864, 34806209, 34805832, 34808797, 34809835, 34812819, 34808849, 34809165, 34807590, 34808165, 34808482, 34806505, 34807334, 34805675, 34809723, 34809032, 34806359, 34809270, 34812410, 34805644, 34807497, 34812106, 34806208, 34808955, 34809790, 34807109, 34806811, 34811920, 34807035, 34812549, 34808358, 34807467, 34806736, 34806975, 34809152, 34806156, 34812251, 34808326, 34808314, 34811815, 34809918, 34806332, 34808568, 34809728, 34805773, 34808355, 34808883, 34805905, 34810026, 34808074, 34806777, 34807712, 34807474, 34810557, 34809256, 34807778, 34811618, 34809850, 34810175, 34807510, 34806903, 34809582, 34808997, 34806651, 34806552, 34810468, 34807454, 34807475, 34807957, 34806916, 34809097, 34808242, 34810160, 34807573, 34807978, 34808581, 34810009, 34812083, 34807398, 34808496, 34808361, 34809696, 34806143, 34807191, 34808134, 34808475, 34808295, 34808385, 34806763, 34809528, 34806846, 34808086, 34808273, 34806402, 34808936, 34806494, 34809817, 34807817, 34807920, 34810916, 34805019, 34810620, 34808184, 34808450, 34808459, 34807349, 34808558, 34806038, 34807561, 34811567, 34807211, 34808319, 34809653, 34807612, 34808540, 34808461, 34808185, 34808825, 34806606, 34806531, 34806447, 34807219, 34808870, 34808643, 34807172, 34809557, 34810635, 34807250, 34806863, 34806754, 34806043, 34805912, 34808678, 34809857, 34809041, 34810602, 34807220, 34807423, 34809650, 34808210, 34806429, 34809533], 'score': 1860, 'time': 1676474055, 'title': 'Bing: “I will not harm you unless you harm me first”', 'type': 'story', 'url': 'https://simonwillison.net/2023/Feb/15/bing/'}\n",
      "{'by': 'iio7', 'descendants': 6, 'id': 34812527, 'kids': [34812802, 34812778], 'score': 18, 'time': 1676503902, 'title': 'SQLite the only database you will ever need in most cases', 'type': 'story', 'url': 'https://www.unixsheikh.com/articles/sqlite-the-only-database-you-will-ever-need-in-most-cases.html'}\n",
      "{'by': 'dgarrett', 'descendants': 29, 'id': 34810332, 'kids': [34812381, 34810350, 34812497, 34812491, 34811020, 34811352, 34812039, 34811503], 'score': 131, 'time': 1676494016, 'title': 'The Little Learner: A Straight Line to Deep Learning', 'type': 'story', 'url': 'https://mitpress.mit.edu/9780262546379/the-little-learner/'}\n",
      "{'by': 'perihelions', 'descendants': 11, 'id': 34811527, 'kids': [34812528, 34812621], 'score': 36, 'time': 1676499391, 'title': 'FDA advisers recommend approval of over-the-counter naloxone', 'type': 'story', 'url': 'https://www.statnews.com/2023/02/15/naloxone-otc-opioisa-fda-panel-recommends/'}\n",
      "{'by': 'yowzadave', 'descendants': 21, 'id': 34809023, 'kids': [34809586, 34812765, 34810187, 34810247, 34812362, 34810654, 34812489, 34809291, 34812628, 34810082], 'score': 163, 'time': 1676488417, 'title': 'Squares in Squares', 'type': 'story', 'url': 'https://erich-friedman.github.io/packing/squinsqu/'}\n",
      "{'by': 'mmaia', 'descendants': 18, 'id': 34811070, 'kids': [34812822, 34812574, 34812691, 34812437, 34811762, 34812257, 34811819], 'score': 57, 'time': 1676497596, 'title': \"Prompt Engine – Microsoft's prompt engineering library\", 'type': 'story', 'url': 'https://github.com/microsoft/prompt-engine'}\n",
      "{'by': 'bo0tzz', 'descendants': 252, 'id': 34802858, 'kids': [34811135, 34803674, 34804271, 34804223, 34806562, 34804026, 34803695, 34812292, 34803633, 34806658, 34806816, 34807559, 34804281, 34804149, 34807056, 34803377, 34810844, 34808488, 34810432, 34803890, 34803527, 34804380, 34810508, 34803859, 34806030, 34804769, 34807206, 34803574, 34805605, 34805005, 34805660, 34810436, 34805083, 34807522, 34807841, 34805103, 34803579, 34805852, 34803677, 34806426, 34809636, 34805101, 34804587, 34804051, 34803661, 34805606, 34807873], 'score': 726, 'time': 1676463809, 'title': 'Last Flight Out', 'type': 'story', 'url': 'https://brr.fyi/posts/last-flight-out'}\n",
      "{'by': 'mbucc', 'descendants': 3, 'id': 34802600, 'kids': [34812725, 34802601, 34812642], 'score': 21, 'time': 1676461866, 'title': 'Unix Edition Zero', 'type': 'story', 'url': 'http://doc.cat-v.org/unix/v0/'}\n",
      "{'by': 'oumua_don17', 'descendants': 120, 'id': 34810153, 'kids': [34811265, 34812447, 34812817, 34811247, 34811256, 34811019, 34812105, 34811692, 34810738, 34810996, 34811303, 34811985, 34812094, 34810882, 34811057], 'score': 186, 'time': 1676493137, 'title': 'AMD Grabs over 30% CPU Market Share as Intel Continues to Decline', 'type': 'story', 'url': 'https://wccftech.com/amd-grabs-over-30-percent-market-share-with-epyc-cpus-intel-continues-to-decline/'}\n",
      "{'by': 'jgrodziski', 'descendants': 12, 'id': 34801464, 'kids': [34812261, 34811847, 34812735, 34812664, 34812557, 34811657, 34811575], 'score': 41, 'time': 1676450564, 'title': 'Clojure in the Tyre Manufacturing Industry', 'type': 'story', 'url': 'https://blogit.michelin.io/clojure-programming/'}\n"
     ]
    }
   ],
   "source": [
    "import requests\n",
    "query_type = \"top\"  # top/best/new, also ask/show/job\n",
    "query_url = f\"https://hacker-news.firebaseio.com/v0/{query_type}stories.json?print=pretty\"  # Top Stories\n",
    "r = requests.get(query_url)\n",
    "ids = r.json()\n",
    "top = ids[:10]\n",
    "stories = []\n",
    "for story in top:\n",
    "\tquery_url = f\"https://hacker-news.firebaseio.com/v0/item/{story}.json?print=pretty\"\n",
    "\tr = requests.get(query_url)\n",
    "\tstories.append(r.json())\n",
    "\tprint(r.json())"
   ]
  },
  {
   "cell_type": "code",
   "execution_count": 16,
   "metadata": {},
   "outputs": [
    {
     "data": {
      "text/plain": [
       "10"
      ]
     },
     "execution_count": 16,
     "metadata": {},
     "output_type": "execute_result"
    }
   ],
   "source": [
    "len(stories)\n",
    "# stories[0]['title']\n",
    "# stories[0].score\n",
    "# stories[0].type\n",
    "# stories[0].url"
   ]
  },
  {
   "cell_type": "code",
   "execution_count": null,
   "metadata": {},
   "outputs": [],
   "source": []
  }
 ],
 "metadata": {
  "kernelspec": {
   "display_name": "Python 3",
   "language": "python",
   "name": "python3"
  },
  "language_info": {
   "codemirror_mode": {
    "name": "ipython",
    "version": 3
   },
   "file_extension": ".py",
   "mimetype": "text/x-python",
   "name": "python",
   "nbconvert_exporter": "python",
   "pygments_lexer": "ipython3",
   "version": "3.10.6"
  },
  "orig_nbformat": 4,
  "vscode": {
   "interpreter": {
    "hash": "aee8b7b246df8f9039afb4144a1f6fd8d2ca17a180786b69acc140d282b71a49"
   }
  }
 },
 "nbformat": 4,
 "nbformat_minor": 2
}
